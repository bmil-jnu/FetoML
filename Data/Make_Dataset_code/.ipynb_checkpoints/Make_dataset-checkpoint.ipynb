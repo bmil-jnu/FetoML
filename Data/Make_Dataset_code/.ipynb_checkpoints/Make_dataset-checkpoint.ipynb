{
 "cells": [
  {
   "cell_type": "code",
   "execution_count": 1,
   "id": "5e84e80c",
   "metadata": {},
   "outputs": [],
   "source": [
    "import pandas as pd\n",
    "import numpy as np"
   ]
  },
  {
   "cell_type": "code",
   "execution_count": 2,
   "id": "5a904480",
   "metadata": {},
   "outputs": [],
   "source": [
    "df_pre = pd.read_csv(\"../Raw/fetal_toxicity_category.csv\", encoding = 'cp949')"
   ]
  },
  {
   "cell_type": "code",
   "execution_count": 3,
   "id": "621d5c21",
   "metadata": {},
   "outputs": [],
   "source": [
    "# 카테고리 분류, D,X,1st는 1로, 나머지는 0으로\n",
    "df_pre['category'] = df_pre['category'].replace(['D','X', '1st','1'],1)\n",
    "df_pre['category'] = df_pre['category'].replace(['A','B1','B2','B3','2nd','0'],0)\n",
    "df_pre = df_pre.drop(df_pre[df_pre['category']=='C'].index)\n",
    "\n",
    "df_pre = df_pre.reset_index(drop = True)"
   ]
  },
  {
   "cell_type": "code",
   "execution_count": 4,
   "id": "84e0a6f5",
   "metadata": {},
   "outputs": [],
   "source": [
    "df_pos = df_pre[df_pre['category']==1].reset_index(drop=True)\n",
    "df_neg = df_pre[df_pre['category']==0].reset_index(drop=True)\n",
    "\n",
    "random_pos = np.random.RandomState(seed=1472).permutation(np.arange(df_pos.shape[0]))\n",
    "random_neg = np.random.RandomState(seed=1472).permutation(np.arange(df_neg.shape[0]))\n",
    "\n",
    "# positive 20% 갯수\n",
    "len_test_pos = len(random_pos[:int(random_pos.shape[0] * 0.2)])\n",
    "\n",
    "# positive 20% 갯수를 기준으로 인덱스 생성\n",
    "test_pos_idx = random_pos[: len_test_pos]\n",
    "test_neg_idx = random_pos[: len_test_pos]\n",
    "\n",
    "# test set 생성\n",
    "test_pos = df_pos.iloc[test_pos_idx]\n",
    "test_neg = df_neg.iloc[test_neg_idx]\n",
    "df_test = pd.concat([test_pos, test_neg])\n",
    "df_test = df_test.iloc[np.random.RandomState(seed=1472).permutation(np.arange(df_test.shape[0]))].reset_index(drop=True)\n",
    "\n",
    "# train set 생성\n",
    "train_pos_idx = random_pos[len_test_pos:]\n",
    "train_neg_idx = random_neg[len_test_pos:]\n",
    "train_pos = df_pos.iloc[train_pos_idx]\n",
    "train_neg = df_neg.iloc[train_neg_idx]\n",
    "df_train = pd.concat([train_pos, train_neg])\n",
    "df_train = df_train.iloc[np.random.RandomState(seed=1472).permutation(np.arange(df_train.shape[0]))].reset_index(drop=True)\n"
   ]
  },
  {
   "cell_type": "code",
   "execution_count": 5,
   "id": "eed96749",
   "metadata": {},
   "outputs": [
    {
     "name": "stdout",
     "output_type": "stream",
     "text": [
      "========================================\n",
      "훈련용 데이터 셋 개수: 1118\n",
      "카테고리 별 개수:\n",
      "0    890\n",
      "1    228\n",
      "Name: category, dtype: int64\n",
      "========================================\n",
      "========================================\n",
      "테스트 데이터 셋 개수: 114\n",
      "카테고리 별 개수:\n",
      "0    57\n",
      "1    57\n",
      "Name: category, dtype: int64\n",
      "========================================\n"
     ]
    }
   ],
   "source": [
    "print('='*40+'\\n'+f'훈련용 데이터 셋 개수: {df_train.shape[0]}\\n카테고리 별 개수:\\n{df_train[\"category\"].value_counts()}'+'\\n'+'='*40)\n",
    "\n",
    "print('='*40+'\\n'+f'테스트 데이터 셋 개수: {df_test.shape[0]}\\n카테고리 별 개수:\\n{df_test[\"category\"].value_counts()}'+'\\n'+'='*40)"
   ]
  },
  {
   "cell_type": "code",
   "execution_count": 6,
   "id": "9b04dc2d",
   "metadata": {},
   "outputs": [],
   "source": [
    "df_train.to_csv(\"../fetal_toxicity_Train.csv\", index=False, encoding=\"cp949\")\n",
    "df_test.to_csv(\"../fetal_toxicity_Test.csv\", index=False, encoding=\"cp949\")"
   ]
  }
 ],
 "metadata": {
  "kernelspec": {
   "display_name": "Python 3 (ipykernel)",
   "language": "python",
   "name": "python3"
  },
  "language_info": {
   "codemirror_mode": {
    "name": "ipython",
    "version": 3
   },
   "file_extension": ".py",
   "mimetype": "text/x-python",
   "name": "python",
   "nbconvert_exporter": "python",
   "pygments_lexer": "ipython3",
   "version": "3.7.11"
  },
  "toc": {
   "base_numbering": 1,
   "nav_menu": {},
   "number_sections": true,
   "sideBar": true,
   "skip_h1_title": false,
   "title_cell": "Table of Contents",
   "title_sidebar": "Contents",
   "toc_cell": false,
   "toc_position": {},
   "toc_section_display": true,
   "toc_window_display": false
  },
  "varInspector": {
   "cols": {
    "lenName": 16,
    "lenType": 16,
    "lenVar": 40
   },
   "kernels_config": {
    "python": {
     "delete_cmd_postfix": "",
     "delete_cmd_prefix": "del ",
     "library": "var_list.py",
     "varRefreshCmd": "print(var_dic_list())"
    },
    "r": {
     "delete_cmd_postfix": ") ",
     "delete_cmd_prefix": "rm(",
     "library": "var_list.r",
     "varRefreshCmd": "cat(var_dic_list()) "
    }
   },
   "types_to_exclude": [
    "module",
    "function",
    "builtin_function_or_method",
    "instance",
    "_Feature"
   ],
   "window_display": false
  }
 },
 "nbformat": 4,
 "nbformat_minor": 5
}
