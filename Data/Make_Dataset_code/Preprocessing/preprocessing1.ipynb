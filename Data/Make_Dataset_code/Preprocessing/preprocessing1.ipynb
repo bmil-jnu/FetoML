{
 "cells": [
  {
   "cell_type": "code",
   "execution_count": 1,
   "metadata": {},
   "outputs": [],
   "source": [
    "import pandas as pd\n",
    "import numpy as np\n"
   ]
  },
  {
   "cell_type": "code",
   "execution_count": 2,
   "metadata": {},
   "outputs": [
    {
     "data": {
      "text/plain": [
       "(2641, 2)"
      ]
     },
     "execution_count": 2,
     "metadata": {},
     "output_type": "execute_result"
    }
   ],
   "source": [
    "# df_table 로 지정\n",
    "\n",
    "df_rawtable = pd.read_csv(\"merge table.csv\", encoding = \"cp949\")\n",
    "df_rawtable.shape"
   ]
  },
  {
   "cell_type": "code",
   "execution_count": 3,
   "metadata": {},
   "outputs": [
    {
     "data": {
      "text/plain": [
       "0                                                abacavir\n",
       "1                    abacavir / dolutegravir / lamivudine\n",
       "2                      abacavir / lamivudine / zidovudine\n",
       "3                                    abacavir/ lamivudine\n",
       "4                                               abatacept\n",
       "                              ...                        \n",
       "2636                             tipiracil + trifluridine\n",
       "2637                                             olaparib\n",
       "2638                                           ribociclib\n",
       "2639    bictegravir + emtricitabine + tenofovir alafen...\n",
       "2640                                   baloxavir marboxil\n",
       "Name: Drug_Name, Length: 2641, dtype: object"
      ]
     },
     "execution_count": 3,
     "metadata": {},
     "output_type": "execute_result"
    }
   ],
   "source": [
    "# Drug_Name 컬럼 전부 소문자로\n",
    "\n",
    "df_rawtable['Drug_Name'] = df_rawtable['Drug_Name'].str.lower()\n",
    "\n",
    "df_rawtable['Drug_Name']"
   ]
  },
  {
   "cell_type": "code",
   "execution_count": 4,
   "metadata": {},
   "outputs": [],
   "source": [
    "# Category 1등급 -> 1st, 2등급 -> 2nd\n",
    "\n",
    "df_rawtable['Category'] = df_rawtable['Category'].str.replace('1등급', '1st')\n",
    "df_rawtable['Category'] = df_rawtable['Category'].str.replace('2등급', '2nd')\n"
   ]
  },
  {
   "cell_type": "code",
   "execution_count": 5,
   "metadata": {},
   "outputs": [
    {
     "name": "stdout",
     "output_type": "stream",
     "text": [
      "vitamin a \n"
     ]
    }
   ],
   "source": [
    "# 괄호 안의 내용 제거\n",
    "\n",
    "df_rawtable['Drug_Name'] = df_rawtable['Drug_Name'].str.replace('\\([^)]*\\)', '')\n",
    "df_rawtable['Drug_Name'] = df_rawtable['Drug_Name'].str.replace('\\[[^]]*\\]', '')\n",
    "\n",
    "# '=' 뒤의 내용 전부 제거\n",
    "\n",
    "df_rawtable['Drug_Name'] = df_rawtable['Drug_Name'].str.replace('\\=.*', '')\n",
    "df_rawtable['Drug_Name'] = df_rawtable['Drug_Name'].str.replace('\\n', '')\n",
    "\n",
    "# 한글은 모두 제거\n",
    "\n",
    "df_rawtable['Drug_Name'] = df_rawtable['Drug_Name'].str.replace('[각-힣].*', '')\n",
    "\n",
    "print(df_rawtable.loc[2175, 'Drug_Name'])\n",
    "\n",
    "# 끝에 발생하는 공백 제거\n",
    "\n",
    "df_rawtable['Drug_Name'] = df_rawtable['Drug_Name'].str.strip()"
   ]
  },
  {
   "cell_type": "code",
   "execution_count": 6,
   "metadata": {},
   "outputs": [
    {
     "data": {
      "text/plain": [
       "(1951, 2)"
      ]
     },
     "execution_count": 6,
     "metadata": {},
     "output_type": "execute_result"
    }
   ],
   "source": [
    "# 중복값 제거\n",
    "\n",
    "df_table = df_rawtable.drop_duplicates('Drug_Name', keep='first')\n",
    "df_table.shape"
   ]
  },
  {
   "cell_type": "code",
   "execution_count": 7,
   "metadata": {},
   "outputs": [
    {
     "name": "stdout",
     "output_type": "stream",
     "text": [
      "\"/\"가 포함된 인덱스 수\n",
      "89\n",
      "\"+\"가 포함된 인덱스 수\n",
      "33\n",
      "\"with\"가 포함된 인덱스 수\n",
      "19\n",
      "\";\"가 포함된 인덱스 수\n",
      "2\n",
      "\"and\"가 포함된 인덱스 수\n",
      "15\n",
      "(1793, 2)\n"
     ]
    }
   ],
   "source": [
    "# '/', '+', 'with', ';', and 포함된 행 모두 제거 \n",
    "\n",
    "not_use1 = df_table[\"Drug_Name\"].str.contains(\"/\")\n",
    "not_use1_select = not_use1[not_use1 == True]\n",
    "print('\"/\"가 포함된 인덱스 수')\n",
    "print(not_use1_select.count())\n",
    "df_table = df_table.drop(not_use1_select.index, axis = 0)\n",
    "\n",
    "not_use2 = df_table[\"Drug_Name\"].str.contains(\"\\+\")\n",
    "not_use2_select = not_use2[not_use2 == True]\n",
    "print('\"+\"가 포함된 인덱스 수')\n",
    "print(not_use2_select.count())\n",
    "df_table = df_table.drop(not_use2_select.index, axis = 0)\n",
    "\n",
    "not_use3 = df_table[\"Drug_Name\"].str.contains(\"with\")\n",
    "not_use3_select = not_use3[not_use3 == True]\n",
    "print('\"with\"가 포함된 인덱스 수')\n",
    "print(not_use3_select.count())\n",
    "df_table = df_table.drop(not_use3_select.index, axis = 0)\n",
    "\n",
    "not_use4 = df_table[\"Drug_Name\"].str.contains(\";\")\n",
    "not_use4_select = not_use4[not_use4 == True]\n",
    "print('\";\"가 포함된 인덱스 수')\n",
    "print(not_use4_select.count())\n",
    "df_table = df_table.drop(not_use4_select.index, axis = 0)\n",
    "\n",
    "not_use5 = df_table[\"Drug_Name\"].str.contains(\"and\")\n",
    "not_use5_select = not_use5[not_use5 == True]\n",
    "print('\"and\"가 포함된 인덱스 수')\n",
    "print(not_use5_select.count())\n",
    "df_table = df_table.drop(not_use5_select.index, axis = 0)\n",
    "\n",
    "\n",
    "print(df_table.shape)"
   ]
  },
  {
   "cell_type": "code",
   "execution_count": 8,
   "metadata": {},
   "outputs": [
    {
     "name": "stdout",
     "output_type": "stream",
     "text": [
      "\"vaccine\"가 포함되어 제거된 행의 수\n",
      "37\n",
      "\"virus\"가 포함되어 제거된 행의 수\n",
      "3\n",
      "\"toxin\"가 포함되어 제거된 행의 수\n",
      "5\n",
      "(1748, 2)\n"
     ]
    }
   ],
   "source": [
    "# 'vaccine', \"virus\", \"toxin\" 포함된 행 모두 제거\n",
    "\n",
    "not_use_vaccine = df_table[\"Drug_Name\"].str.contains(\"vaccine\")\n",
    "not_use_vaccine_select = not_use_vaccine[not_use_vaccine == True]\n",
    "print('\"vaccine\"가 포함되어 제거된 행의 수')\n",
    "print(not_use_vaccine_select.count())\n",
    "df_table = df_table.drop(not_use_vaccine_select.index, axis = 0)\n",
    "\n",
    "not_use_virus = df_table[\"Drug_Name\"].str.contains(\"virus\")\n",
    "not_use_virus_select = not_use_virus[not_use_virus == True]\n",
    "print('\"virus\"가 포함되어 제거된 행의 수')\n",
    "print(not_use_virus_select.count())\n",
    "df_table = df_table.drop(not_use_virus_select.index, axis = 0)\n",
    "\n",
    "not_use_toxin = df_table[\"Drug_Name\"].str.contains(\"toxin\")\n",
    "not_use_toxin_select = not_use_toxin[not_use_toxin == True]\n",
    "print('\"toxin\"가 포함되어 제거된 행의 수')\n",
    "print(not_use_toxin_select.count())\n",
    "df_table = df_table.drop(not_use_toxin_select.index, axis = 0)\n",
    "\n",
    "\n",
    "print(df_table.shape)"
   ]
  },
  {
   "cell_type": "code",
   "execution_count": 9,
   "metadata": {},
   "outputs": [],
   "source": [
    "df_table.to_csv('pre_table.csv', index = False, encoding = \"cp949\")"
   ]
  }
 ],
 "metadata": {
  "kernelspec": {
   "display_name": "Python 3 (ipykernel)",
   "language": "python",
   "name": "python3"
  },
  "language_info": {
   "codemirror_mode": {
    "name": "ipython",
    "version": 3
   },
   "file_extension": ".py",
   "mimetype": "text/x-python",
   "name": "python",
   "nbconvert_exporter": "python",
   "pygments_lexer": "ipython3",
   "version": "3.7.11"
  },
  "toc": {
   "base_numbering": 1,
   "nav_menu": {},
   "number_sections": true,
   "sideBar": true,
   "skip_h1_title": false,
   "title_cell": "Table of Contents",
   "title_sidebar": "Contents",
   "toc_cell": false,
   "toc_position": {},
   "toc_section_display": true,
   "toc_window_display": false
  },
  "varInspector": {
   "cols": {
    "lenName": 16,
    "lenType": 16,
    "lenVar": 40
   },
   "kernels_config": {
    "python": {
     "delete_cmd_postfix": "",
     "delete_cmd_prefix": "del ",
     "library": "var_list.py",
     "varRefreshCmd": "print(var_dic_list())"
    },
    "r": {
     "delete_cmd_postfix": ") ",
     "delete_cmd_prefix": "rm(",
     "library": "var_list.r",
     "varRefreshCmd": "cat(var_dic_list()) "
    }
   },
   "types_to_exclude": [
    "module",
    "function",
    "builtin_function_or_method",
    "instance",
    "_Feature"
   ],
   "window_display": false
  }
 },
 "nbformat": 4,
 "nbformat_minor": 4
}
